{
  "nbformat": 4,
  "nbformat_minor": 0,
  "metadata": {
    "colab": {
      "name": "View_Classifier.ipynb",
      "provenance": [],
      "collapsed_sections": [],
      "mount_file_id": "17hJM0fuk33Rz4Fz_5lno43OX11RvAKyC",
      "authorship_tag": "ABX9TyPRkO/TZzZtGWZyArjUgZS3",
      "include_colab_link": true
    },
    "kernelspec": {
      "name": "python3",
      "display_name": "Python 3"
    },
    "language_info": {
      "name": "python"
    }
  },
  "cells": [
    {
      "cell_type": "markdown",
      "metadata": {
        "id": "view-in-github",
        "colab_type": "text"
      },
      "source": [
        "<a href=\"https://colab.research.google.com/github/baaaam771/waliking_binary_classification/blob/main/View_Classifier.ipynb\" target=\"_parent\"><img src=\"https://colab.research.google.com/assets/colab-badge.svg\" alt=\"Open In Colab\"/></a>"
      ]
    },
    {
      "cell_type": "code",
      "metadata": {
        "colab": {
          "base_uri": "https://localhost:8080/"
        },
        "id": "vX5BymtiAwt-",
        "outputId": "a881c2c1-76da-42b1-e83d-ddce05150ba9"
      },
      "source": [
        "from google.colab import drive\n",
        "drive.mount('/content/drive')"
      ],
      "execution_count": 37,
      "outputs": [
        {
          "output_type": "stream",
          "text": [
            "Drive already mounted at /content/drive; to attempt to forcibly remount, call drive.mount(\"/content/drive\", force_remount=True).\n"
          ],
          "name": "stdout"
        }
      ]
    },
    {
      "cell_type": "code",
      "metadata": {
        "id": "Rjq0sxiZAnwo"
      },
      "source": [
        "from tensorflow.python.keras.models import load_model"
      ],
      "execution_count": 38,
      "outputs": []
    },
    {
      "cell_type": "code",
      "metadata": {
        "id": "swbLzzpuAhvz"
      },
      "source": [
        "model = load_model('/content/drive/MyDrive/walking_data/walking_model.h5')"
      ],
      "execution_count": 39,
      "outputs": []
    },
    {
      "cell_type": "code",
      "metadata": {
        "colab": {
          "base_uri": "https://localhost:8080/"
        },
        "id": "aF-yHXycAreq",
        "outputId": "d88ba250-07a5-48b0-dd13-8ce83398b3de"
      },
      "source": [
        "model.summary()"
      ],
      "execution_count": 40,
      "outputs": [
        {
          "output_type": "stream",
          "text": [
            "Model: \"model\"\n",
            "_________________________________________________________________\n",
            "Layer (type)                 Output Shape              Param #   \n",
            "=================================================================\n",
            "input_1 (InputLayer)         [(None, 128, 6, 1)]       0         \n",
            "_________________________________________________________________\n",
            "conv2d (Conv2D)              (None, 124, 6, 64)        384       \n",
            "_________________________________________________________________\n",
            "conv2d_1 (Conv2D)            (None, 120, 6, 64)        20544     \n",
            "_________________________________________________________________\n",
            "conv2d_2 (Conv2D)            (None, 116, 6, 64)        20544     \n",
            "_________________________________________________________________\n",
            "conv2d_3 (Conv2D)            (None, 112, 6, 64)        20544     \n",
            "_________________________________________________________________\n",
            "reshape (Reshape)            (None, 112, 384)          0         \n",
            "_________________________________________________________________\n",
            "lstm_1 (LSTM)                (None, 112, 128)          262656    \n",
            "_________________________________________________________________\n",
            "dot_1 (Dropout)              (None, 112, 128)          0         \n",
            "_________________________________________________________________\n",
            "lstm_2 (LSTM)                (None, 128)               131584    \n",
            "_________________________________________________________________\n",
            "dot_2 (Dropout)              (None, 128)               0         \n",
            "_________________________________________________________________\n",
            "act_sigmoid (Dense)          (None, 1)                 129       \n",
            "=================================================================\n",
            "Total params: 456,385\n",
            "Trainable params: 456,385\n",
            "Non-trainable params: 0\n",
            "_________________________________________________________________\n"
          ],
          "name": "stdout"
        }
      ]
    },
    {
      "cell_type": "code",
      "metadata": {
        "id": "D-v0cN7qAtRt"
      },
      "source": [
        "import pandas as pd"
      ],
      "execution_count": 41,
      "outputs": []
    },
    {
      "cell_type": "code",
      "metadata": {
        "id": "VBcqAsE1A0c5"
      },
      "source": [
        "data = pd.read_csv('/content/drive/MyDrive/walking_data/test_data.csv')"
      ],
      "execution_count": 42,
      "outputs": []
    },
    {
      "cell_type": "code",
      "metadata": {
        "colab": {
          "base_uri": "https://localhost:8080/",
          "height": 417
        },
        "id": "WGKk0VGDA6xm",
        "outputId": "28da57cd-efb9-4666-9cc8-342397178a0b"
      },
      "source": [
        "data"
      ],
      "execution_count": 43,
      "outputs": [
        {
          "output_type": "execute_result",
          "data": {
            "text/html": [
              "<div>\n",
              "<style scoped>\n",
              "    .dataframe tbody tr th:only-of-type {\n",
              "        vertical-align: middle;\n",
              "    }\n",
              "\n",
              "    .dataframe tbody tr th {\n",
              "        vertical-align: top;\n",
              "    }\n",
              "\n",
              "    .dataframe thead th {\n",
              "        text-align: right;\n",
              "    }\n",
              "</style>\n",
              "<table border=\"1\" class=\"dataframe\">\n",
              "  <thead>\n",
              "    <tr style=\"text-align: right;\">\n",
              "      <th></th>\n",
              "      <th>-6.314</th>\n",
              "      <th>-0.381</th>\n",
              "      <th>6.501</th>\n",
              "      <th>-0.017</th>\n",
              "      <th>0.158</th>\n",
              "      <th>-0.033</th>\n",
              "    </tr>\n",
              "  </thead>\n",
              "  <tbody>\n",
              "    <tr>\n",
              "      <th>0</th>\n",
              "      <td>-6.058</td>\n",
              "      <td>-0.606</td>\n",
              "      <td>5.912</td>\n",
              "      <td>-0.028</td>\n",
              "      <td>0.373</td>\n",
              "      <td>0.066</td>\n",
              "    </tr>\n",
              "    <tr>\n",
              "      <th>1</th>\n",
              "      <td>-6.647</td>\n",
              "      <td>-0.869</td>\n",
              "      <td>5.883</td>\n",
              "      <td>-0.049</td>\n",
              "      <td>0.653</td>\n",
              "      <td>0.061</td>\n",
              "    </tr>\n",
              "    <tr>\n",
              "      <th>2</th>\n",
              "      <td>-7.336</td>\n",
              "      <td>-1.018</td>\n",
              "      <td>5.991</td>\n",
              "      <td>0.022</td>\n",
              "      <td>1.062</td>\n",
              "      <td>-0.255</td>\n",
              "    </tr>\n",
              "    <tr>\n",
              "      <th>3</th>\n",
              "      <td>-7.918</td>\n",
              "      <td>-1.015</td>\n",
              "      <td>6.541</td>\n",
              "      <td>0.030</td>\n",
              "      <td>0.811</td>\n",
              "      <td>-0.503</td>\n",
              "    </tr>\n",
              "    <tr>\n",
              "      <th>4</th>\n",
              "      <td>-8.284</td>\n",
              "      <td>-1.262</td>\n",
              "      <td>5.033</td>\n",
              "      <td>-0.215</td>\n",
              "      <td>1.151</td>\n",
              "      <td>-0.744</td>\n",
              "    </tr>\n",
              "    <tr>\n",
              "      <th>...</th>\n",
              "      <td>...</td>\n",
              "      <td>...</td>\n",
              "      <td>...</td>\n",
              "      <td>...</td>\n",
              "      <td>...</td>\n",
              "      <td>...</td>\n",
              "    </tr>\n",
              "    <tr>\n",
              "      <th>123</th>\n",
              "      <td>-7.729</td>\n",
              "      <td>-6.788</td>\n",
              "      <td>1.496</td>\n",
              "      <td>0.950</td>\n",
              "      <td>0.726</td>\n",
              "      <td>2.521</td>\n",
              "    </tr>\n",
              "    <tr>\n",
              "      <th>124</th>\n",
              "      <td>-6.714</td>\n",
              "      <td>-6.079</td>\n",
              "      <td>1.695</td>\n",
              "      <td>0.416</td>\n",
              "      <td>-0.145</td>\n",
              "      <td>2.711</td>\n",
              "    </tr>\n",
              "    <tr>\n",
              "      <th>125</th>\n",
              "      <td>-6.103</td>\n",
              "      <td>-5.368</td>\n",
              "      <td>1.307</td>\n",
              "      <td>0.197</td>\n",
              "      <td>-0.412</td>\n",
              "      <td>2.610</td>\n",
              "    </tr>\n",
              "    <tr>\n",
              "      <th>126</th>\n",
              "      <td>-5.481</td>\n",
              "      <td>-4.839</td>\n",
              "      <td>0.876</td>\n",
              "      <td>0.254</td>\n",
              "      <td>-0.275</td>\n",
              "      <td>1.906</td>\n",
              "    </tr>\n",
              "    <tr>\n",
              "      <th>127</th>\n",
              "      <td>-8.370</td>\n",
              "      <td>-7.185</td>\n",
              "      <td>-1.389</td>\n",
              "      <td>0.382</td>\n",
              "      <td>-0.187</td>\n",
              "      <td>1.433</td>\n",
              "    </tr>\n",
              "  </tbody>\n",
              "</table>\n",
              "<p>128 rows × 6 columns</p>\n",
              "</div>"
            ],
            "text/plain": [
              "     -6.314  -0.381  6.501  -0.017  0.158  -0.033\n",
              "0    -6.058  -0.606  5.912  -0.028  0.373   0.066\n",
              "1    -6.647  -0.869  5.883  -0.049  0.653   0.061\n",
              "2    -7.336  -1.018  5.991   0.022  1.062  -0.255\n",
              "3    -7.918  -1.015  6.541   0.030  0.811  -0.503\n",
              "4    -8.284  -1.262  5.033  -0.215  1.151  -0.744\n",
              "..      ...     ...    ...     ...    ...     ...\n",
              "123  -7.729  -6.788  1.496   0.950  0.726   2.521\n",
              "124  -6.714  -6.079  1.695   0.416 -0.145   2.711\n",
              "125  -6.103  -5.368  1.307   0.197 -0.412   2.610\n",
              "126  -5.481  -4.839  0.876   0.254 -0.275   1.906\n",
              "127  -8.370  -7.185 -1.389   0.382 -0.187   1.433\n",
              "\n",
              "[128 rows x 6 columns]"
            ]
          },
          "metadata": {
            "tags": []
          },
          "execution_count": 43
        }
      ]
    },
    {
      "cell_type": "code",
      "metadata": {
        "colab": {
          "base_uri": "https://localhost:8080/",
          "height": 370
        },
        "id": "UKzv02PrA-CA",
        "outputId": "7cff4ca1-13e0-409d-ba83-3462e1cde7e3"
      },
      "source": [
        "import matplotlib.pyplot as plt\n",
        "plt.plot(data)"
      ],
      "execution_count": 44,
      "outputs": [
        {
          "output_type": "execute_result",
          "data": {
            "text/plain": [
              "[<matplotlib.lines.Line2D at 0x7f6396823ad0>,\n",
              " <matplotlib.lines.Line2D at 0x7f6396823390>,\n",
              " <matplotlib.lines.Line2D at 0x7f63968239d0>,\n",
              " <matplotlib.lines.Line2D at 0x7f6396825cd0>,\n",
              " <matplotlib.lines.Line2D at 0x7f6396825ad0>,\n",
              " <matplotlib.lines.Line2D at 0x7f6396825a90>]"
            ]
          },
          "metadata": {
            "tags": []
          },
          "execution_count": 44
        },
        {
          "output_type": "display_data",
          "data": {
            "image/png": "[encoded data removed]",
            "text/plain": [
              "<Figure size 432x288 with 1 Axes>"
            ]
          },
          "metadata": {
            "tags": [],
            "needs_background": "light"
          }
        }
      ]
    },
    {
      "cell_type": "code",
      "metadata": {
        "id": "hh84P3a9BJoB"
      },
      "source": [
        "import numpy as np"
      ],
      "execution_count": 45,
      "outputs": []
    },
    {
      "cell_type": "code",
      "metadata": {
        "id": "-MjdYvRcL0LR"
      },
      "source": [
        "data = data.iloc[0 : 128, 0 : 6]"
      ],
      "execution_count": 46,
      "outputs": []
    },
    {
      "cell_type": "code",
      "metadata": {
        "id": "M9gNOZM5BA7w"
      },
      "source": [
        "test_data = np.expand_dims(data,2)"
      ],
      "execution_count": 47,
      "outputs": []
    },
    {
      "cell_type": "code",
      "metadata": {
        "colab": {
          "base_uri": "https://localhost:8080/"
        },
        "id": "f-WJYyF2BHsL",
        "outputId": "d9041753-22a0-45b5-bb01-81edb1398391"
      },
      "source": [
        "test_data.shape"
      ],
      "execution_count": 48,
      "outputs": [
        {
          "output_type": "execute_result",
          "data": {
            "text/plain": [
              "(128, 6, 1)"
            ]
          },
          "metadata": {
            "tags": []
          },
          "execution_count": 48
        }
      ]
    },
    {
      "cell_type": "code",
      "metadata": {
        "id": "etIw0jjwBTGs"
      },
      "source": [
        "test_data = np.expand_dims(test_data,0)"
      ],
      "execution_count": 49,
      "outputs": []
    },
    {
      "cell_type": "code",
      "metadata": {
        "colab": {
          "base_uri": "https://localhost:8080/"
        },
        "id": "2k1DzqLnBXRT",
        "outputId": "9b622800-8a9f-4e4c-f2e2-6cff9dd96ead"
      },
      "source": [
        "test_data.shape"
      ],
      "execution_count": 50,
      "outputs": [
        {
          "output_type": "execute_result",
          "data": {
            "text/plain": [
              "(1, 128, 6, 1)"
            ]
          },
          "metadata": {
            "tags": []
          },
          "execution_count": 50
        }
      ]
    },
    {
      "cell_type": "code",
      "metadata": {
        "id": "bLfPWH4QBYAw"
      },
      "source": [
        "score = model.predict(test_data)"
      ],
      "execution_count": 53,
      "outputs": []
    },
    {
      "cell_type": "code",
      "metadata": {
        "colab": {
          "base_uri": "https://localhost:8080/"
        },
        "id": "j7LcIKGuc-mQ",
        "outputId": "3e2a8a7f-7f2f-4152-b960-a406139e8e8f"
      },
      "source": [
        "score"
      ],
      "execution_count": 54,
      "outputs": [
        {
          "output_type": "execute_result",
          "data": {
            "text/plain": [
              "array([[0.99999595]], dtype=float32)"
            ]
          },
          "metadata": {
            "tags": []
          },
          "execution_count": 54
        }
      ]
    },
    {
      "cell_type": "code",
      "metadata": {
        "id": "CsMKQ1BABaC1",
        "colab": {
          "base_uri": "https://localhost:8080/"
        },
        "outputId": "8a94da21-abe8-44b6-a563-3e2523cd004c"
      },
      "source": [
        "if score > 0.5:\n",
        "    print(\"비정상\")\n",
        "\n",
        "else:\n",
        "    print(\" 정상 \")"
      ],
      "execution_count": 55,
      "outputs": [
        {
          "output_type": "stream",
          "text": [
            "비정상\n"
          ],
          "name": "stdout"
        }
      ]
    },
    {
      "cell_type": "code",
      "metadata": {
        "id": "UvBDntbldGK-"
      },
      "source": [
        ""
      ],
      "execution_count": null,
      "outputs": []
    }
  ]
}